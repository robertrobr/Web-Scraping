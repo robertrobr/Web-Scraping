{
 "cells": [
  {
   "cell_type": "markdown",
   "id": "ac8d332c",
   "metadata": {},
   "source": [
    "# IMDB Web Scraper\n",
    "\n",
    "The aim of this project is to find the best movies to watch for a person who wants to get more knowledgeable in the art of cinematography.\n",
    "\n",
    "Recently, I decided to get more into cinematography, after realising my movie knowledge was poor, having never watched classic movies like Star Wars, The Godfather, Back to the Future etc. I decided to make a list of the best and most influential movies that not only will provide a good understanding of the development of cinematography throughout the years, but are also fun and entertaining to watch.\n",
    "\n",
    "We are going to scrape IMDB's Top 250 movies list which is a list of the top-rated movies on the popular movie database website IMDb (Internet Movie Database). This top is determined by the ratings given by IMDb users and is considered a measure of the general public's opinion on the best movies of all time.\n",
    "\n",
    "In addition to the ratings, we are also considering:\n",
    "- The length of the movie (shorter movies are prefered)\n",
    "- The number of votes (more votes mean more popularity and influence they have)\n",
    "- Release year (older movies may feel less entertaining in today's time, for example due to poorer special effect)\n",
    "- Actors and directors to find which people have made the most impact in the industry\n",
    "- Genre (to be able to filter the movies based on the genre we feel like watching at a particular time)\n",
    "\n",
    "We'll create a CSV file in the following format:\n",
    "\n",
    "Rank,Title,Rating,Year,URL,Number of votes,Description,Duration,Genre,Director,Writer,Top 10 actors\n",
    "\n",
    "Then we will use this information to create charts which help us answer some questions like which decade has created the most influential movies, what are the top actors, what genre the public prefers etc.\n",
    "\n",
    "## Scraping the list of movies\n",
    "\n",
    "First, we will use requests to download the page, then use BeautifulSoup to parse and extract the needed information and lastly we convert to a Pandas dataframe.\n",
    "\n",
    "We import the necessary libraries, then we create separate functions for each instruction such as:\n",
    "- Get movies page\n",
    "- Get page header\n",
    "- Get list of movie titles\n",
    "- Get list of release years\n",
    "- Get list of movie URLs\n",
    "- Create a list of ranks\n",
    "- Putting everything together in one function"
   ]
  },
  {
   "cell_type": "code",
   "execution_count": 680,
   "id": "6a4d333c",
   "metadata": {},
   "outputs": [],
   "source": [
    "from bs4 import BeautifulSoup\n",
    "import requests\n",
    "import smtplib\n",
    "import time\n",
    "import datetime\n",
    "import pandas as pd\n",
    "import os\n",
    "import csv\n",
    "import re"
   ]
  },
  {
   "cell_type": "code",
   "execution_count": 475,
   "id": "c5c1786f",
   "metadata": {},
   "outputs": [],
   "source": [
    "def get_movies_page():\n",
    "    main_url = 'https://www.imdb.com/chart/top/'\n",
    "    response = requests.get(main_url)\n",
    "    if response.status_code < 200 or response.status_code > 299:\n",
    "        raise Exception('Failed to load movies page {}'.format(main.url))\n",
    "    # Parse using Beautiful soup\n",
    "    doc = BeautifulSoup(response.text, 'html.parser')\n",
    "    #page_contents = response.text\n",
    "    return doc"
   ]
  },
  {
   "cell_type": "code",
   "execution_count": 753,
   "id": "02f35472",
   "metadata": {},
   "outputs": [],
   "source": [
    "# Example\n",
    "doc = get_movies_page()\n",
    "#print(doc.prettify())"
   ]
  },
  {
   "cell_type": "code",
   "execution_count": 682,
   "id": "4904b2a2",
   "metadata": {},
   "outputs": [],
   "source": [
    "def get_page_header(doc):\n",
    "    h1_tags = doc.find('h1', class_='header')\n",
    "    header = h1_tags\n",
    "    return header"
   ]
  },
  {
   "cell_type": "code",
   "execution_count": 683,
   "id": "b9b040e5",
   "metadata": {},
   "outputs": [
    {
     "name": "stdout",
     "output_type": "stream",
     "text": [
      "IMDb Top 250 Movies\n"
     ]
    }
   ],
   "source": [
    "# Example\n",
    "header = get_page_header(doc)\n",
    "print(header.string)"
   ]
  },
  {
   "cell_type": "code",
   "execution_count": 684,
   "id": "9b7de31a",
   "metadata": {},
   "outputs": [],
   "source": [
    "def get_list_of_movie_titles(doc):\n",
    "    list_of_movie_titles = []\n",
    "    title = doc.find_all(class_='titleColumn')\n",
    "    for i in title:\n",
    "        # Searching for the 'a' tags in the 'titleColumn' class to find the movie titles\n",
    "        q = i.find_all('a')\n",
    "        for i in q:\n",
    "            list_of_movie_titles.append(i.text)\n",
    "    return list_of_movie_titles"
   ]
  },
  {
   "cell_type": "code",
   "execution_count": 685,
   "id": "a6d22be0",
   "metadata": {},
   "outputs": [
    {
     "name": "stdout",
     "output_type": "stream",
     "text": [
      "['The Shawshank Redemption', 'The Godfather', 'The Dark Knight', 'The Godfather Part II', '12 Angry Men', \"Schindler's List\", 'The Lord of the Rings: The Return of the King', 'Pulp Fiction', 'The Lord of the Rings: The Fellowship of the Ring', 'The Good, the Bad and the Ugly', 'Spider-Man: Across the Spider-Verse', 'Forrest Gump', 'Fight Club', 'The Lord of the Rings: The Two Towers', 'Inception', 'Star Wars: Episode V - The Empire Strikes Back', 'The Matrix', 'GoodFellas', \"One Flew Over the Cuckoo's Nest\", 'Seven', \"It's a Wonderful Life\", 'Seven Samurai', 'The Silence of the Lambs', 'Saving Private Ryan', 'City of God', 'Interstellar', 'Life Is Beautiful', 'The Green Mile', 'Star Wars: Episode IV - A New Hope', 'Terminator 2: Judgment Day', 'Back to the Future', 'Spirited Away', 'The Pianist', 'Psycho', 'Parasite', 'Leon', 'The Lion King', 'Gladiator', 'American History X', 'The Departed', 'Whiplash', 'The Prestige', 'The Usual Suspects', 'Casablanca', 'Grave of the Fireflies', 'Harakiri', 'Untouchable', 'Modern Times', 'Once Upon a Time in the West', 'Cinema Paradiso', 'Rear Window', 'Alien', 'City Lights', 'Apocalypse Now', 'Memento', 'Django Unchained', 'Raiders of the Lost Ark', 'WALL·E', 'The Lives of Others', 'Sunset Blvd.', 'Paths of Glory', 'Avengers: Infinity War', 'The Shining', 'The Great Dictator', 'Witness for the Prosecution', 'Spider-Man: Into the Spider-Verse', 'Aliens', 'American Beauty', 'The Dark Knight Rises', 'Dr. Strangelove or: How I Learned to Stop Worrying and Love the Bomb', 'Inglourious Basterds', 'Oldboy', 'Coco', 'Amadeus', 'Toy Story', 'Braveheart', 'Das Boot', 'Joker', 'Avengers: Endgame', 'Princess Mononoke', 'Good Will Hunting', 'Once Upon a Time in America', 'Your Name.', '3 Idiots', \"Singin' in the Rain\", 'High and Low', 'Requiem for a Dream', 'Capernaum', 'Toy Story 3', 'Star Wars: Return of the Jedi', 'Come and See', 'Eternal Sunshine of the Spotless Mind', '2001: A Space Odyssey', 'The Hunt', 'Reservoir Dogs', 'Lawrence of Arabia', 'Citizen Kane', 'M', 'Ikiru', 'North by Northwest', 'The Apartment', 'Vertigo', 'Amélie', 'Double Indemnity', 'A Clockwork Orange', 'Full Metal Jacket', 'Hamilton', 'Scarface', 'Incendies', 'Heat', 'Up', 'To Kill a Mockingbird', 'The Sting', 'A Separation', 'Metropolis', 'L.A. Confidential', 'Die Hard', 'Indiana Jones and the Last Crusade', 'Snatch', 'Taxi Driver', 'Bicycle Thieves', 'Like Stars on Earth', '1917', 'Dangal', 'Downfall', 'Top Gun: Maverick', 'For a Few Dollars More', 'Batman Begins', 'The Kid', 'Some Like It Hot', 'The Father', 'The Wolf of Wall Street', 'All About Eve', 'Green Book', 'Judgment at Nuremberg', 'Ran', 'The Truman Show', 'Casino', 'There Will Be Blood', \"Pan's Labyrinth\", 'Unforgiven', 'Shutter Island', 'The Sixth Sense', 'Jurassic Park', 'A Beautiful Mind', 'The Treasure of the Sierra Madre', 'Yojimbo', 'Monty Python and the Holy Grail', 'No Country for Old Men', 'Kill Bill: Vol. 1', 'The Great Escape', 'Rashomon', 'The Thing', 'Finding Nemo', 'Spider-Man: No Way Home', 'The Elephant Man', 'Chinatown', 'Raging Bull', 'V for Vendetta', 'Gone with the Wind', 'Dial M for Murder', 'Inside Out', 'Lock, Stock and Two Smoking Barrels', \"Howl's Moving Castle\", 'The Secret in Their Eyes', 'Three Billboards Outside Ebbing, Missouri', 'Guardians of the Galaxy Vol. 3', 'Prisoners', 'Trainspotting', 'The Bridge on the River Kwai', 'Fargo', 'Warrior', 'Gran Torino', 'Catch Me If You Can', 'My Neighbour Totoro', 'Million Dollar Baby', 'Children of Heaven', 'The Gold Rush', 'Blade Runner', 'Klaus', 'Harry Potter and the Deathly Hallows: Part 2', '12 Years a Slave', 'Before Sunrise', 'The Grand Budapest Hotel', 'Ben-Hur', 'On the Waterfront', 'Gone Girl', 'Barry Lyndon', 'The General', 'Wild Strawberries', 'In the Name of the Father', 'The Deer Hunter', 'Hacksaw Ridge', 'The Third Man', 'The Wages of Fear', 'Memories of Murder', 'Sherlock Jr.', 'Wild Tales', 'Mr. Smith Goes to Washington', 'Mad Max: Fury Road', 'Mary and Max', 'Dead Poets Society', 'How to Train Your Dragon', 'Monsters, Inc.', 'The Seventh Seal', 'Jaws', 'Room', 'The Big Lebowski', 'Tokyo Story', \"Le Mans '66\", 'The Passion of Joan of Arc', 'Hotel Rwanda', 'Rocky', 'Ratatouille', 'Platoon', 'Spotlight', 'Logan', 'The Terminator', 'Jai Bhim', 'Rush', 'Stand by Me', 'Before Sunset', 'Network', 'Into the Wild', 'The Wizard of Oz', 'The Best Years of Our Lives', 'La haine', 'The Exorcist', 'The Incredibles', 'To Be or Not to Be', 'Groundhog Day', 'Pirates of the Caribbean: The Curse of the Black Pearl', 'The Battle of Algiers', 'The Grapes of Wrath', 'My Father and My Son', \"Hachi: A Dog's Tale\", 'Pather Panchali', 'The Handmaiden', 'Amores perros', 'Rebecca', 'Cool Hand Luke', 'The Sound of Music', 'It Happened One Night', 'The 400 Blows', 'Persona', 'The Help', 'The Iron Giant', 'Life of Brian', 'Aladdin', 'Dances with Wolves']\n"
     ]
    }
   ],
   "source": [
    "# Example\n",
    "titles = get_list_of_movie_titles(doc)\n",
    "print(titles)"
   ]
  },
  {
   "cell_type": "code",
   "execution_count": 686,
   "id": "29dde5bc",
   "metadata": {},
   "outputs": [],
   "source": [
    "def get_list_of_movie_ratings(doc):\n",
    "    list_of_ratings = []\n",
    "    ratings = doc.find_all(class_='ratingColumn imdbRating')\n",
    "    for i in ratings:\n",
    "        i = i.text\n",
    "        list_of_ratings.append(float(i[1:-1]))\n",
    "    return list_of_ratings"
   ]
  },
  {
   "cell_type": "code",
   "execution_count": 687,
   "id": "a5b0be92",
   "metadata": {},
   "outputs": [
    {
     "name": "stdout",
     "output_type": "stream",
     "text": [
      "[9.2, 9.2, 9.0, 9.0, 9.0, 8.9, 8.9, 8.8, 8.8, 8.8, 8.8, 8.8, 8.7, 8.7, 8.7, 8.7, 8.7, 8.7, 8.6, 8.6, 8.6, 8.6, 8.6, 8.6, 8.6, 8.6, 8.6, 8.6, 8.5, 8.5, 8.5, 8.5, 8.5, 8.5, 8.5, 8.5, 8.5, 8.5, 8.5, 8.5, 8.5, 8.5, 8.5, 8.5, 8.5, 8.5, 8.5, 8.4, 8.4, 8.4, 8.4, 8.4, 8.4, 8.4, 8.4, 8.4, 8.4, 8.4, 8.4, 8.4, 8.4, 8.4, 8.4, 8.4, 8.4, 8.4, 8.3, 8.3, 8.3, 8.3, 8.3, 8.3, 8.3, 8.3, 8.3, 8.3, 8.3, 8.3, 8.3, 8.3, 8.3, 8.3, 8.3, 8.3, 8.3, 8.3, 8.3, 8.3, 8.3, 8.3, 8.3, 8.3, 8.3, 8.3, 8.3, 8.2, 8.2, 8.2, 8.2, 8.2, 8.2, 8.2, 8.2, 8.2, 8.2, 8.2, 8.2, 8.2, 8.2, 8.2, 8.2, 8.2, 8.2, 8.2, 8.2, 8.2, 8.2, 8.2, 8.2, 8.2, 8.2, 8.2, 8.2, 8.2, 8.2, 8.2, 8.2, 8.2, 8.2, 8.2, 8.2, 8.2, 8.2, 8.2, 8.2, 8.2, 8.2, 8.2, 8.2, 8.2, 8.2, 8.2, 8.2, 8.2, 8.2, 8.1, 8.1, 8.1, 8.1, 8.1, 8.1, 8.1, 8.1, 8.1, 8.1, 8.1, 8.1, 8.1, 8.1, 8.1, 8.1, 8.1, 8.1, 8.1, 8.1, 8.1, 8.1, 8.1, 8.1, 8.1, 8.1, 8.1, 8.1, 8.1, 8.1, 8.1, 8.1, 8.1, 8.1, 8.1, 8.1, 8.1, 8.1, 8.1, 8.1, 8.1, 8.1, 8.1, 8.1, 8.1, 8.1, 8.1, 8.1, 8.1, 8.1, 8.1, 8.1, 8.1, 8.1, 8.1, 8.1, 8.1, 8.1, 8.1, 8.1, 8.1, 8.1, 8.1, 8.1, 8.1, 8.0, 8.0, 8.0, 8.0, 8.0, 8.0, 8.0, 8.0, 8.0, 8.0, 8.0, 8.0, 8.0, 8.0, 8.0, 8.0, 8.0, 8.0, 8.0, 8.0, 8.0, 8.0, 8.0, 8.0, 8.0, 8.0, 8.0, 8.0, 8.0, 8.0, 8.0, 8.0, 8.0, 8.0, 8.0, 8.0, 8.0, 8.0, 8.0, 8.0]\n"
     ]
    }
   ],
   "source": [
    "# Example\n",
    "list_of_movie_ratings = get_list_of_movie_ratings(doc)\n",
    "print(list_of_movie_ratings)"
   ]
  },
  {
   "cell_type": "code",
   "execution_count": 688,
   "id": "7e1f1830",
   "metadata": {},
   "outputs": [],
   "source": [
    "def get_list_of_movie_years(doc):\n",
    "    list_of_movie_years = []\n",
    "    years = doc.find_all(class_='secondaryInfo')\n",
    "    for i in years:\n",
    "        i = i.text\n",
    "        list_of_movie_years.append(int(i[1:-1]))\n",
    "    return list_of_movie_years"
   ]
  },
  {
   "cell_type": "code",
   "execution_count": 689,
   "id": "c22ec6a6",
   "metadata": {},
   "outputs": [
    {
     "name": "stdout",
     "output_type": "stream",
     "text": [
      "[1994, 1972, 2008, 1974, 1957, 1993, 2003, 1994, 2001, 1966, 2023, 1994, 1999, 2002, 2010, 1980, 1999, 1990, 1975, 1995, 1946, 1954, 1991, 1998, 2002, 2014, 1997, 1999, 1977, 1991, 1985, 2001, 2002, 1960, 2019, 1994, 1994, 2000, 1998, 2006, 2014, 2006, 1995, 1942, 1988, 1962, 2011, 1936, 1968, 1988, 1954, 1979, 1931, 1979, 2000, 2012, 1981, 2008, 2006, 1950, 1957, 2018, 1980, 1940, 1957, 2018, 1986, 1999, 2012, 1964, 2009, 2003, 2017, 1984, 1995, 1995, 1981, 2019, 2019, 1997, 1997, 1984, 2016, 2009, 1952, 1963, 2000, 2018, 2010, 1983, 1985, 2004, 1968, 2012, 1992, 1962, 1941, 1931, 1952, 1959, 1960, 1958, 2001, 1944, 1971, 1987, 2020, 1983, 2010, 1995, 2009, 1962, 1973, 2011, 1927, 1997, 1988, 1989, 2000, 1976, 1948, 2007, 2019, 2016, 2004, 2022, 1965, 2005, 1921, 1959, 2020, 2013, 1950, 2018, 1961, 1985, 1998, 1995, 2007, 2006, 1992, 2010, 1999, 1993, 2001, 1948, 1961, 1975, 2007, 2003, 1963, 1950, 1982, 2003, 2021, 1980, 1974, 1980, 2005, 1939, 1954, 2015, 1998, 2004, 2009, 2017, 2023, 2013, 1996, 1957, 1996, 2011, 2008, 2002, 1988, 2004, 1997, 1925, 1982, 2019, 2011, 2013, 1995, 2014, 1959, 1954, 2014, 1975, 1926, 1957, 1993, 1978, 2016, 1949, 1953, 2003, 1924, 2014, 1939, 2015, 2009, 1989, 2010, 2001, 1957, 1975, 2015, 1998, 1953, 2019, 1928, 2004, 1976, 2007, 1986, 2015, 2017, 1984, 2021, 2013, 1986, 2004, 1976, 2007, 1939, 1946, 1995, 1973, 2004, 1942, 1993, 2003, 1966, 1940, 2005, 2009, 1955, 2016, 2000, 1940, 1967, 1965, 1934, 1959, 1966, 2011, 1999, 1979, 1992, 1990]\n"
     ]
    }
   ],
   "source": [
    "# Example\n",
    "list_of_movie_years = get_list_of_movie_years(doc)\n",
    "print(list_of_movie_years)"
   ]
  },
  {
   "cell_type": "code",
   "execution_count": 690,
   "id": "9c9abf03",
   "metadata": {},
   "outputs": [],
   "source": [
    "def get_list_of_movie_urls(doc):\n",
    "    list_of_urls = []\n",
    "    # Here we create a base URL to which we attach the 'href' to create the full link to each movie\n",
    "    base_url = 'https://imdb.com'\n",
    "    title = doc.find_all(class_='titleColumn')\n",
    "    for i in title:\n",
    "        q = i.find_all('a')\n",
    "        for i in q:\n",
    "            list_of_urls.append(base_url + i.get('href'))\n",
    "    return list_of_urls"
   ]
  },
  {
   "cell_type": "code",
   "execution_count": 691,
   "id": "21cfcc26",
   "metadata": {},
   "outputs": [
    {
     "name": "stdout",
     "output_type": "stream",
     "text": [
      "['https://imdb.com/title/tt0111161/', 'https://imdb.com/title/tt0068646/', 'https://imdb.com/title/tt0468569/', 'https://imdb.com/title/tt0071562/', 'https://imdb.com/title/tt0050083/', 'https://imdb.com/title/tt0108052/', 'https://imdb.com/title/tt0167260/', 'https://imdb.com/title/tt0110912/', 'https://imdb.com/title/tt0120737/', 'https://imdb.com/title/tt0060196/', 'https://imdb.com/title/tt9362722/', 'https://imdb.com/title/tt0109830/', 'https://imdb.com/title/tt0137523/', 'https://imdb.com/title/tt0167261/', 'https://imdb.com/title/tt1375666/', 'https://imdb.com/title/tt0080684/', 'https://imdb.com/title/tt0133093/', 'https://imdb.com/title/tt0099685/', 'https://imdb.com/title/tt0073486/', 'https://imdb.com/title/tt0114369/', 'https://imdb.com/title/tt0038650/', 'https://imdb.com/title/tt0047478/', 'https://imdb.com/title/tt0102926/', 'https://imdb.com/title/tt0120815/', 'https://imdb.com/title/tt0317248/', 'https://imdb.com/title/tt0816692/', 'https://imdb.com/title/tt0118799/', 'https://imdb.com/title/tt0120689/', 'https://imdb.com/title/tt0076759/', 'https://imdb.com/title/tt0103064/', 'https://imdb.com/title/tt0088763/', 'https://imdb.com/title/tt0245429/', 'https://imdb.com/title/tt0253474/', 'https://imdb.com/title/tt0054215/', 'https://imdb.com/title/tt6751668/', 'https://imdb.com/title/tt0110413/', 'https://imdb.com/title/tt0110357/', 'https://imdb.com/title/tt0172495/', 'https://imdb.com/title/tt0120586/', 'https://imdb.com/title/tt0407887/', 'https://imdb.com/title/tt2582802/', 'https://imdb.com/title/tt0482571/', 'https://imdb.com/title/tt0114814/', 'https://imdb.com/title/tt0034583/', 'https://imdb.com/title/tt0095327/', 'https://imdb.com/title/tt0056058/', 'https://imdb.com/title/tt1675434/', 'https://imdb.com/title/tt0027977/', 'https://imdb.com/title/tt0064116/', 'https://imdb.com/title/tt0095765/', 'https://imdb.com/title/tt0047396/', 'https://imdb.com/title/tt0078748/', 'https://imdb.com/title/tt0021749/', 'https://imdb.com/title/tt0078788/', 'https://imdb.com/title/tt0209144/', 'https://imdb.com/title/tt1853728/', 'https://imdb.com/title/tt0082971/', 'https://imdb.com/title/tt0910970/', 'https://imdb.com/title/tt0405094/', 'https://imdb.com/title/tt0043014/', 'https://imdb.com/title/tt0050825/', 'https://imdb.com/title/tt4154756/', 'https://imdb.com/title/tt0081505/', 'https://imdb.com/title/tt0032553/', 'https://imdb.com/title/tt0051201/', 'https://imdb.com/title/tt4633694/', 'https://imdb.com/title/tt0090605/', 'https://imdb.com/title/tt0169547/', 'https://imdb.com/title/tt1345836/', 'https://imdb.com/title/tt0057012/', 'https://imdb.com/title/tt0361748/', 'https://imdb.com/title/tt0364569/', 'https://imdb.com/title/tt2380307/', 'https://imdb.com/title/tt0086879/', 'https://imdb.com/title/tt0114709/', 'https://imdb.com/title/tt0112573/', 'https://imdb.com/title/tt0082096/', 'https://imdb.com/title/tt7286456/', 'https://imdb.com/title/tt4154796/', 'https://imdb.com/title/tt0119698/', 'https://imdb.com/title/tt0119217/', 'https://imdb.com/title/tt0087843/', 'https://imdb.com/title/tt5311514/', 'https://imdb.com/title/tt1187043/', 'https://imdb.com/title/tt0045152/', 'https://imdb.com/title/tt0057565/', 'https://imdb.com/title/tt0180093/', 'https://imdb.com/title/tt8267604/', 'https://imdb.com/title/tt0435761/', 'https://imdb.com/title/tt0086190/', 'https://imdb.com/title/tt0091251/', 'https://imdb.com/title/tt0338013/', 'https://imdb.com/title/tt0062622/', 'https://imdb.com/title/tt2106476/', 'https://imdb.com/title/tt0105236/', 'https://imdb.com/title/tt0056172/', 'https://imdb.com/title/tt0033467/', 'https://imdb.com/title/tt0022100/', 'https://imdb.com/title/tt0044741/', 'https://imdb.com/title/tt0053125/', 'https://imdb.com/title/tt0053604/', 'https://imdb.com/title/tt0052357/', 'https://imdb.com/title/tt0211915/', 'https://imdb.com/title/tt0036775/', 'https://imdb.com/title/tt0066921/', 'https://imdb.com/title/tt0093058/', 'https://imdb.com/title/tt8503618/', 'https://imdb.com/title/tt0086250/', 'https://imdb.com/title/tt1255953/', 'https://imdb.com/title/tt0113277/', 'https://imdb.com/title/tt1049413/', 'https://imdb.com/title/tt0056592/', 'https://imdb.com/title/tt0070735/', 'https://imdb.com/title/tt1832382/', 'https://imdb.com/title/tt0017136/', 'https://imdb.com/title/tt0119488/', 'https://imdb.com/title/tt0095016/', 'https://imdb.com/title/tt0097576/', 'https://imdb.com/title/tt0208092/', 'https://imdb.com/title/tt0075314/', 'https://imdb.com/title/tt0040522/', 'https://imdb.com/title/tt0986264/', 'https://imdb.com/title/tt8579674/', 'https://imdb.com/title/tt5074352/', 'https://imdb.com/title/tt0363163/', 'https://imdb.com/title/tt1745960/', 'https://imdb.com/title/tt0059578/', 'https://imdb.com/title/tt0372784/', 'https://imdb.com/title/tt0012349/', 'https://imdb.com/title/tt0053291/', 'https://imdb.com/title/tt10272386/', 'https://imdb.com/title/tt0993846/', 'https://imdb.com/title/tt0042192/', 'https://imdb.com/title/tt6966692/', 'https://imdb.com/title/tt0055031/', 'https://imdb.com/title/tt0089881/', 'https://imdb.com/title/tt0120382/', 'https://imdb.com/title/tt0112641/', 'https://imdb.com/title/tt0469494/', 'https://imdb.com/title/tt0457430/', 'https://imdb.com/title/tt0105695/', 'https://imdb.com/title/tt1130884/', 'https://imdb.com/title/tt0167404/', 'https://imdb.com/title/tt0107290/', 'https://imdb.com/title/tt0268978/', 'https://imdb.com/title/tt0040897/', 'https://imdb.com/title/tt0055630/', 'https://imdb.com/title/tt0071853/', 'https://imdb.com/title/tt0477348/', 'https://imdb.com/title/tt0266697/', 'https://imdb.com/title/tt0057115/', 'https://imdb.com/title/tt0042876/', 'https://imdb.com/title/tt0084787/', 'https://imdb.com/title/tt0266543/', 'https://imdb.com/title/tt10872600/', 'https://imdb.com/title/tt0080678/', 'https://imdb.com/title/tt0071315/', 'https://imdb.com/title/tt0081398/', 'https://imdb.com/title/tt0434409/', 'https://imdb.com/title/tt0031381/', 'https://imdb.com/title/tt0046912/', 'https://imdb.com/title/tt2096673/', 'https://imdb.com/title/tt0120735/', 'https://imdb.com/title/tt0347149/', 'https://imdb.com/title/tt1305806/', 'https://imdb.com/title/tt5027774/', 'https://imdb.com/title/tt6791350/', 'https://imdb.com/title/tt1392214/', 'https://imdb.com/title/tt0117951/', 'https://imdb.com/title/tt0050212/', 'https://imdb.com/title/tt0116282/', 'https://imdb.com/title/tt1291584/', 'https://imdb.com/title/tt1205489/', 'https://imdb.com/title/tt0264464/', 'https://imdb.com/title/tt0096283/', 'https://imdb.com/title/tt0405159/', 'https://imdb.com/title/tt0118849/', 'https://imdb.com/title/tt0015864/', 'https://imdb.com/title/tt0083658/', 'https://imdb.com/title/tt4729430/', 'https://imdb.com/title/tt1201607/', 'https://imdb.com/title/tt2024544/', 'https://imdb.com/title/tt0112471/', 'https://imdb.com/title/tt2278388/', 'https://imdb.com/title/tt0052618/', 'https://imdb.com/title/tt0047296/', 'https://imdb.com/title/tt2267998/', 'https://imdb.com/title/tt0072684/', 'https://imdb.com/title/tt0017925/', 'https://imdb.com/title/tt0050986/', 'https://imdb.com/title/tt0107207/', 'https://imdb.com/title/tt0077416/', 'https://imdb.com/title/tt2119532/', 'https://imdb.com/title/tt0041959/', 'https://imdb.com/title/tt0046268/', 'https://imdb.com/title/tt0353969/', 'https://imdb.com/title/tt0015324/', 'https://imdb.com/title/tt3011894/', 'https://imdb.com/title/tt0031679/', 'https://imdb.com/title/tt1392190/', 'https://imdb.com/title/tt0978762/', 'https://imdb.com/title/tt0097165/', 'https://imdb.com/title/tt0892769/', 'https://imdb.com/title/tt0198781/', 'https://imdb.com/title/tt0050976/', 'https://imdb.com/title/tt0073195/', 'https://imdb.com/title/tt3170832/', 'https://imdb.com/title/tt0118715/', 'https://imdb.com/title/tt0046438/', 'https://imdb.com/title/tt1950186/', 'https://imdb.com/title/tt0019254/', 'https://imdb.com/title/tt0395169/', 'https://imdb.com/title/tt0075148/', 'https://imdb.com/title/tt0382932/', 'https://imdb.com/title/tt0091763/', 'https://imdb.com/title/tt1895587/', 'https://imdb.com/title/tt3315342/', 'https://imdb.com/title/tt0088247/', 'https://imdb.com/title/tt15097216/', 'https://imdb.com/title/tt1979320/', 'https://imdb.com/title/tt0092005/', 'https://imdb.com/title/tt0381681/', 'https://imdb.com/title/tt0074958/', 'https://imdb.com/title/tt0758758/', 'https://imdb.com/title/tt0032138/', 'https://imdb.com/title/tt0036868/', 'https://imdb.com/title/tt0113247/', 'https://imdb.com/title/tt0070047/', 'https://imdb.com/title/tt0317705/', 'https://imdb.com/title/tt0035446/', 'https://imdb.com/title/tt0107048/', 'https://imdb.com/title/tt0325980/', 'https://imdb.com/title/tt0058946/', 'https://imdb.com/title/tt0032551/', 'https://imdb.com/title/tt0476735/', 'https://imdb.com/title/tt1028532/', 'https://imdb.com/title/tt0048473/', 'https://imdb.com/title/tt4016934/', 'https://imdb.com/title/tt0245712/', 'https://imdb.com/title/tt0032976/', 'https://imdb.com/title/tt0061512/', 'https://imdb.com/title/tt0059742/', 'https://imdb.com/title/tt0025316/', 'https://imdb.com/title/tt0053198/', 'https://imdb.com/title/tt0060827/', 'https://imdb.com/title/tt1454029/', 'https://imdb.com/title/tt0129167/', 'https://imdb.com/title/tt0079470/', 'https://imdb.com/title/tt0103639/', 'https://imdb.com/title/tt0099348/']\n"
     ]
    }
   ],
   "source": [
    "# Example\n",
    "list_of_movie_urls = get_list_of_movie_urls(doc)\n",
    "print(list_of_movie_urls)"
   ]
  },
  {
   "cell_type": "code",
   "execution_count": 692,
   "id": "6dd7dfa9",
   "metadata": {},
   "outputs": [],
   "source": [
    "# Simple function which creates a list of ranks to be associated which the movie information\n",
    "def create_list_of_ranks():\n",
    "    rank = []\n",
    "    for i in range(250):\n",
    "        rank.append(i+1)\n",
    "    return rank"
   ]
  },
  {
   "cell_type": "code",
   "execution_count": 693,
   "id": "15f31192",
   "metadata": {},
   "outputs": [
    {
     "name": "stdout",
     "output_type": "stream",
     "text": [
      "[1, 2, 3, 4, 5, 6, 7, 8, 9, 10, 11, 12, 13, 14, 15, 16, 17, 18, 19, 20, 21, 22, 23, 24, 25, 26, 27, 28, 29, 30, 31, 32, 33, 34, 35, 36, 37, 38, 39, 40, 41, 42, 43, 44, 45, 46, 47, 48, 49, 50, 51, 52, 53, 54, 55, 56, 57, 58, 59, 60, 61, 62, 63, 64, 65, 66, 67, 68, 69, 70, 71, 72, 73, 74, 75, 76, 77, 78, 79, 80, 81, 82, 83, 84, 85, 86, 87, 88, 89, 90, 91, 92, 93, 94, 95, 96, 97, 98, 99, 100, 101, 102, 103, 104, 105, 106, 107, 108, 109, 110, 111, 112, 113, 114, 115, 116, 117, 118, 119, 120, 121, 122, 123, 124, 125, 126, 127, 128, 129, 130, 131, 132, 133, 134, 135, 136, 137, 138, 139, 140, 141, 142, 143, 144, 145, 146, 147, 148, 149, 150, 151, 152, 153, 154, 155, 156, 157, 158, 159, 160, 161, 162, 163, 164, 165, 166, 167, 168, 169, 170, 171, 172, 173, 174, 175, 176, 177, 178, 179, 180, 181, 182, 183, 184, 185, 186, 187, 188, 189, 190, 191, 192, 193, 194, 195, 196, 197, 198, 199, 200, 201, 202, 203, 204, 205, 206, 207, 208, 209, 210, 211, 212, 213, 214, 215, 216, 217, 218, 219, 220, 221, 222, 223, 224, 225, 226, 227, 228, 229, 230, 231, 232, 233, 234, 235, 236, 237, 238, 239, 240, 241, 242, 243, 244, 245, 246, 247, 248, 249, 250]\n"
     ]
    }
   ],
   "source": [
    "# Example\n",
    "ranks = create_list_of_ranks()\n",
    "print(ranks)"
   ]
  },
  {
   "cell_type": "code",
   "execution_count": 694,
   "id": "8e9ab700",
   "metadata": {},
   "outputs": [],
   "source": [
    "# Putting everything together\n",
    "def scrape_top_250():\n",
    "    movies_url = 'https://www.imdb.com/chart/top/'\n",
    "    # Download the page\n",
    "    response = requests.get(movies_url)\n",
    "    # Check successful response\n",
    "    if response.status_code < 200 or response.status_code > 299:\n",
    "        raise Exception('Failed to load page {}'.format(topic_url))\n",
    "    doc = BeautifulSoup(response.text, 'html.parser')\n",
    "    movies_dict = {\n",
    "        'rank': create_list_of_ranks(),\n",
    "        'title': get_list_of_movie_titles(doc),\n",
    "        'rating': get_list_of_movie_ratings(doc),\n",
    "        'year': get_list_of_movie_years(doc),\n",
    "        'url': get_list_of_movie_urls(doc),\n",
    "        \n",
    "    }\n",
    "    return movies_dict"
   ]
  },
  {
   "cell_type": "code",
   "execution_count": 695,
   "id": "a72948ba",
   "metadata": {},
   "outputs": [
    {
     "data": {
      "text/html": [
       "<div>\n",
       "<style scoped>\n",
       "    .dataframe tbody tr th:only-of-type {\n",
       "        vertical-align: middle;\n",
       "    }\n",
       "\n",
       "    .dataframe tbody tr th {\n",
       "        vertical-align: top;\n",
       "    }\n",
       "\n",
       "    .dataframe thead th {\n",
       "        text-align: right;\n",
       "    }\n",
       "</style>\n",
       "<table border=\"1\" class=\"dataframe\">\n",
       "  <thead>\n",
       "    <tr style=\"text-align: right;\">\n",
       "      <th></th>\n",
       "      <th>rank</th>\n",
       "      <th>title</th>\n",
       "      <th>rating</th>\n",
       "      <th>year</th>\n",
       "      <th>url</th>\n",
       "    </tr>\n",
       "  </thead>\n",
       "  <tbody>\n",
       "    <tr>\n",
       "      <th>0</th>\n",
       "      <td>1</td>\n",
       "      <td>The Shawshank Redemption</td>\n",
       "      <td>9.2</td>\n",
       "      <td>1994</td>\n",
       "      <td>https://imdb.com/title/tt0111161/</td>\n",
       "    </tr>\n",
       "    <tr>\n",
       "      <th>1</th>\n",
       "      <td>2</td>\n",
       "      <td>The Godfather</td>\n",
       "      <td>9.2</td>\n",
       "      <td>1972</td>\n",
       "      <td>https://imdb.com/title/tt0068646/</td>\n",
       "    </tr>\n",
       "    <tr>\n",
       "      <th>2</th>\n",
       "      <td>3</td>\n",
       "      <td>The Dark Knight</td>\n",
       "      <td>9.0</td>\n",
       "      <td>2008</td>\n",
       "      <td>https://imdb.com/title/tt0468569/</td>\n",
       "    </tr>\n",
       "    <tr>\n",
       "      <th>3</th>\n",
       "      <td>4</td>\n",
       "      <td>The Godfather Part II</td>\n",
       "      <td>9.0</td>\n",
       "      <td>1974</td>\n",
       "      <td>https://imdb.com/title/tt0071562/</td>\n",
       "    </tr>\n",
       "    <tr>\n",
       "      <th>4</th>\n",
       "      <td>5</td>\n",
       "      <td>12 Angry Men</td>\n",
       "      <td>9.0</td>\n",
       "      <td>1957</td>\n",
       "      <td>https://imdb.com/title/tt0050083/</td>\n",
       "    </tr>\n",
       "    <tr>\n",
       "      <th>...</th>\n",
       "      <td>...</td>\n",
       "      <td>...</td>\n",
       "      <td>...</td>\n",
       "      <td>...</td>\n",
       "      <td>...</td>\n",
       "    </tr>\n",
       "    <tr>\n",
       "      <th>245</th>\n",
       "      <td>246</td>\n",
       "      <td>The Help</td>\n",
       "      <td>8.0</td>\n",
       "      <td>2011</td>\n",
       "      <td>https://imdb.com/title/tt1454029/</td>\n",
       "    </tr>\n",
       "    <tr>\n",
       "      <th>246</th>\n",
       "      <td>247</td>\n",
       "      <td>The Iron Giant</td>\n",
       "      <td>8.0</td>\n",
       "      <td>1999</td>\n",
       "      <td>https://imdb.com/title/tt0129167/</td>\n",
       "    </tr>\n",
       "    <tr>\n",
       "      <th>247</th>\n",
       "      <td>248</td>\n",
       "      <td>Life of Brian</td>\n",
       "      <td>8.0</td>\n",
       "      <td>1979</td>\n",
       "      <td>https://imdb.com/title/tt0079470/</td>\n",
       "    </tr>\n",
       "    <tr>\n",
       "      <th>248</th>\n",
       "      <td>249</td>\n",
       "      <td>Aladdin</td>\n",
       "      <td>8.0</td>\n",
       "      <td>1992</td>\n",
       "      <td>https://imdb.com/title/tt0103639/</td>\n",
       "    </tr>\n",
       "    <tr>\n",
       "      <th>249</th>\n",
       "      <td>250</td>\n",
       "      <td>Dances with Wolves</td>\n",
       "      <td>8.0</td>\n",
       "      <td>1990</td>\n",
       "      <td>https://imdb.com/title/tt0099348/</td>\n",
       "    </tr>\n",
       "  </tbody>\n",
       "</table>\n",
       "<p>250 rows × 5 columns</p>\n",
       "</div>"
      ],
      "text/plain": [
       "     rank                     title  rating  year  \\\n",
       "0       1  The Shawshank Redemption     9.2  1994   \n",
       "1       2             The Godfather     9.2  1972   \n",
       "2       3           The Dark Knight     9.0  2008   \n",
       "3       4     The Godfather Part II     9.0  1974   \n",
       "4       5              12 Angry Men     9.0  1957   \n",
       "..    ...                       ...     ...   ...   \n",
       "245   246                  The Help     8.0  2011   \n",
       "246   247            The Iron Giant     8.0  1999   \n",
       "247   248             Life of Brian     8.0  1979   \n",
       "248   249                   Aladdin     8.0  1992   \n",
       "249   250        Dances with Wolves     8.0  1990   \n",
       "\n",
       "                                   url  \n",
       "0    https://imdb.com/title/tt0111161/  \n",
       "1    https://imdb.com/title/tt0068646/  \n",
       "2    https://imdb.com/title/tt0468569/  \n",
       "3    https://imdb.com/title/tt0071562/  \n",
       "4    https://imdb.com/title/tt0050083/  \n",
       "..                                 ...  \n",
       "245  https://imdb.com/title/tt1454029/  \n",
       "246  https://imdb.com/title/tt0129167/  \n",
       "247  https://imdb.com/title/tt0079470/  \n",
       "248  https://imdb.com/title/tt0103639/  \n",
       "249  https://imdb.com/title/tt0099348/  \n",
       "\n",
       "[250 rows x 5 columns]"
      ]
     },
     "execution_count": 695,
     "metadata": {},
     "output_type": "execute_result"
    }
   ],
   "source": [
    "# Display as Panda DataFrame\n",
    "top250 = pd.DataFrame(scrape_top_250())\n",
    "top250"
   ]
  },
  {
   "cell_type": "code",
   "execution_count": 696,
   "id": "989382bb",
   "metadata": {},
   "outputs": [],
   "source": [
    "# Save the DataFrame to a csv file\n",
    "top250.to_csv('movies.csv', index=None)"
   ]
  },
  {
   "cell_type": "markdown",
   "id": "1fd41abc",
   "metadata": {},
   "source": [
    "## Scrape every movie individually\n",
    "\n",
    "Now that we have a list of the best movies ranked in order of their rating, we want to get additional information on each of them. For this, we need to access every movie url and scrape additional information such as:\n",
    "- Movie description\n",
    "- Genre\n",
    "- Votes\n",
    "- Duration\n",
    "- Director\n",
    "- Writer\n",
    "- Top 10 Actors"
   ]
  },
  {
   "cell_type": "code",
   "execution_count": 697,
   "id": "918d6eda",
   "metadata": {},
   "outputs": [],
   "source": [
    "# Download the movie page\n",
    "def get_movie_page(movie_url):\n",
    "    response = requests.get(movie_url)\n",
    "    # We will use headers to avoid being identified and blocked by configuring our requests to appear natural\n",
    "    headers = {\"User-Agent\": \"Mozilla/5.0 (Windows NT 10.0; Win64; x64) AppleWebKit/537.36 (KHTML, like Gecko) Chrome/113.0.0.0 Safari/537.36\", \"Accept-Encoding\": \"gzip, deflate, br\", \"Accept\": \"text/html,application/xhtml+xml,application/xml;q=0.9,image/avif,image/webp,image/apng,*/*;q=0.8,application/signed-exchange;v=b3;q=0.7\",\"Upgrade-Insecure-Requests\": \"1\"}\n",
    "    response = requests.get(movie_url, headers=headers)\n",
    "    if response.status_code < 200 or response.status_code > 299:\n",
    "        raise Exception('Failed to load page {}'.format(movie_url))\n",
    "    # Parse using Beautiful soup\n",
    "    movie_doc = BeautifulSoup(response.text, 'html.parser')\n",
    "    return movie_doc"
   ]
  },
  {
   "cell_type": "code",
   "execution_count": 698,
   "id": "8df335e7",
   "metadata": {},
   "outputs": [],
   "source": [
    "# Function to get the movie genres. Since it can be more than one genre, we want these stored in a list\n",
    "def get_movie_genre(movie_doc):\n",
    "    genres = []\n",
    "    gen = movie_doc.find_all(class_='ipc-chip__text')\n",
    "    for i in gen:\n",
    "        genres.append(i.text)\n",
    "    genres.pop()\n",
    "    return genres"
   ]
  },
  {
   "cell_type": "code",
   "execution_count": 700,
   "id": "e1746d8c",
   "metadata": {},
   "outputs": [],
   "source": [
    "# The number of votes is displayed like '2.7M' or '230K'.\n",
    "# This function transforms that to an actual value which can be used for calculations later\n",
    "def parse_vote_count(vote):\n",
    "    if vote[-1] == 'K':\n",
    "        vote=float(vote[:-1])*1000\n",
    "    elif vote[-1] == 'M':\n",
    "        vote=float(vote[:-1])*1000000\n",
    "    else:\n",
    "        vote=float(vote)\n",
    "    return int(vote)"
   ]
  },
  {
   "cell_type": "code",
   "execution_count": 701,
   "id": "dac1cedd",
   "metadata": {},
   "outputs": [],
   "source": [
    "# The duration of the movie is displated in the following format '2h 33m'\n",
    "# We want to transform this into an integer showing the total minutes. For example '2h 33m' = 153\n",
    "def parse_duration(duration):\n",
    "    # 2h33m -> ['2', '33']\n",
    "    hours_and_or_minutes = re.findall('\\d+', duration)\n",
    "    if len(hours_and_or_minutes) == 2:\n",
    "        final_time_in_minutes = int(hours_and_or_minutes[0]) * 60 + int(hours_and_or_minutes[1])\n",
    "    if len(hours_and_or_minutes) == 1:\n",
    "        if 'h' in duration:\n",
    "            final_time_in_minutes = int(hours_and_or_minutes[0]) * 60\n",
    "        if 'm' in duration:\n",
    "            final_time_in_minutes = int(hours_and_or_minutes[0])\n",
    "    return final_time_in_minutes"
   ]
  },
  {
   "cell_type": "code",
   "execution_count": 702,
   "id": "53859186",
   "metadata": {},
   "outputs": [],
   "source": [
    "# Function to get the top 10 actors for a movie\n",
    "def get_top_10_actors(movie_doc):\n",
    "    actors = []\n",
    "    act = movie_doc.find_all(class_='sc-bfec09a1-1 fUguci')\n",
    "    for i in act[:10]:\n",
    "        actors.append(i.text)\n",
    "    return actors"
   ]
  },
  {
   "cell_type": "code",
   "execution_count": 703,
   "id": "b620e793",
   "metadata": {},
   "outputs": [],
   "source": [
    "# Put all in one function which retrieves all the information we need for a specific movie\n",
    "def get_movie_info(movie_doc):\n",
    "    # returns all the required info about a repository\n",
    "    description = movie_doc.find(class_='sc-cd57914c-0 VeJpA').text\n",
    "    genre = get_movie_genre(movie_doc)\n",
    "    votes = parse_vote_count(movie_doc.find(class_='sc-bde20123-3 bjjENQ').text)\n",
    "    duration = parse_duration(movie_doc.find_all(class_='ipc-inline-list__item', role='presentation')[5].text)\n",
    "    # Director and writer are in the same class, so we create a list. The first element always being the director.\n",
    "    director_and_writer = movie_doc.find_all(class_='ipc-metadata-list-item__list-content-item ipc-metadata-list-item__list-content-item--link')\n",
    "    director = director_and_writer[0].text\n",
    "    writer = director_and_writer[1].text\n",
    "    actors = get_top_10_actors(movie_doc)\n",
    "    return description, genre, votes, duration, director, writer, actors"
   ]
  },
  {
   "cell_type": "code",
   "execution_count": 704,
   "id": "98922ff3",
   "metadata": {},
   "outputs": [],
   "source": [
    "# Take previously built dictionary and add the new elements\n",
    "def extend_dictionary():\n",
    "    movie_dict = scrape_top_250()\n",
    "    list_of_new_keys = ['description', 'genre', 'votes', 'duration', 'director', 'writer', 'actors']\n",
    "    for key in list_of_new_keys:\n",
    "        movie_dict[key] = []\n",
    "    return movie_dict"
   ]
  },
  {
   "cell_type": "code",
   "execution_count": 705,
   "id": "8d9a7a73",
   "metadata": {},
   "outputs": [],
   "source": [
    "# Function to append the new information\n",
    "def append_movie_information(movie_doc, movie_dict):\n",
    "    movie_tags = doc.find_all(class_='titleColumn')\n",
    "\n",
    "    movie_info = get_movie_info(movie_doc)\n",
    "    movie_dict['description'].append(movie_info[0])\n",
    "    movie_dict['genre'].append(movie_info[1])\n",
    "    movie_dict['votes'].append(movie_info[2])\n",
    "    movie_dict['duration'].append(movie_info[3])\n",
    "    movie_dict['director'].append(movie_info[4])\n",
    "    movie_dict['writer'].append(movie_info[5])\n",
    "    movie_dict['actors'].append(movie_info[6])\n",
    "    \n",
    "    return movie_dict"
   ]
  },
  {
   "cell_type": "code",
   "execution_count": 706,
   "id": "3dcac749",
   "metadata": {},
   "outputs": [],
   "source": [
    "# Putting everything in one function\n",
    "def scrape_movies_information():\n",
    "    print('Scraping list of movies')\n",
    "    movies_dict = extend_dictionary()\n",
    "    count = 0\n",
    "    for index in movies_dict['url']:\n",
    "        count = count + 1\n",
    "        print('{number}. Scraping details for \"{title}\"'.format(number=count, title=movies_dict['title'][count-1]))\n",
    "        movies_dict = append_movie_information(get_movie_page(index),movies_dict)\n",
    "        #scrape_movie(row['url'])\n",
    "    print('Finished scraping list of movies')\n",
    "    return movies_dict"
   ]
  },
  {
   "cell_type": "code",
   "execution_count": null,
   "id": "650443fe",
   "metadata": {},
   "outputs": [],
   "source": [
    "# Example\n",
    "complete_movie_dict = scrape_movies_information()\n",
    "#print(complete_movie_dict)"
   ]
  },
  {
   "cell_type": "code",
   "execution_count": 502,
   "id": "22ac8de7",
   "metadata": {},
   "outputs": [
    {
     "data": {
      "text/html": [
       "<div>\n",
       "<style scoped>\n",
       "    .dataframe tbody tr th:only-of-type {\n",
       "        vertical-align: middle;\n",
       "    }\n",
       "\n",
       "    .dataframe tbody tr th {\n",
       "        vertical-align: top;\n",
       "    }\n",
       "\n",
       "    .dataframe thead th {\n",
       "        text-align: right;\n",
       "    }\n",
       "</style>\n",
       "<table border=\"1\" class=\"dataframe\">\n",
       "  <thead>\n",
       "    <tr style=\"text-align: right;\">\n",
       "      <th></th>\n",
       "      <th>rank</th>\n",
       "      <th>title</th>\n",
       "      <th>rating</th>\n",
       "      <th>year</th>\n",
       "      <th>url</th>\n",
       "      <th>description</th>\n",
       "      <th>genre</th>\n",
       "      <th>votes</th>\n",
       "      <th>duration</th>\n",
       "      <th>director</th>\n",
       "      <th>writer</th>\n",
       "      <th>actors</th>\n",
       "    </tr>\n",
       "  </thead>\n",
       "  <tbody>\n",
       "    <tr>\n",
       "      <th>0</th>\n",
       "      <td>1</td>\n",
       "      <td>The Shawshank Redemption</td>\n",
       "      <td>9.2</td>\n",
       "      <td>1994</td>\n",
       "      <td>https://imdb.com/title/tt0111161/</td>\n",
       "      <td>Over the course of several years, two convicts...</td>\n",
       "      <td>[Drama]</td>\n",
       "      <td>2800000</td>\n",
       "      <td>142</td>\n",
       "      <td>Frank Darabont</td>\n",
       "      <td>Stephen King</td>\n",
       "      <td>[Tim Robbins, Morgan Freeman, Bob Gunton, Will...</td>\n",
       "    </tr>\n",
       "    <tr>\n",
       "      <th>1</th>\n",
       "      <td>2</td>\n",
       "      <td>The Godfather</td>\n",
       "      <td>9.2</td>\n",
       "      <td>1972</td>\n",
       "      <td>https://imdb.com/title/tt0068646/</td>\n",
       "      <td>Don Vito Corleone, head of a mafia family, dec...</td>\n",
       "      <td>[Crime, Drama]</td>\n",
       "      <td>1900000</td>\n",
       "      <td>175</td>\n",
       "      <td>Francis Ford Coppola</td>\n",
       "      <td>Mario Puzo</td>\n",
       "      <td>[Marlon Brando, Al Pacino, James Caan, Diane K...</td>\n",
       "    </tr>\n",
       "    <tr>\n",
       "      <th>2</th>\n",
       "      <td>3</td>\n",
       "      <td>The Dark Knight</td>\n",
       "      <td>9.0</td>\n",
       "      <td>2008</td>\n",
       "      <td>https://imdb.com/title/tt0468569/</td>\n",
       "      <td>When the menace known as the Joker wreaks havo...</td>\n",
       "      <td>[Action, Crime, Drama]</td>\n",
       "      <td>2700000</td>\n",
       "      <td>152</td>\n",
       "      <td>Christopher Nolan</td>\n",
       "      <td>Jonathan Nolan</td>\n",
       "      <td>[Christian Bale, Heath Ledger, Aaron Eckhart, ...</td>\n",
       "    </tr>\n",
       "    <tr>\n",
       "      <th>3</th>\n",
       "      <td>4</td>\n",
       "      <td>The Godfather Part II</td>\n",
       "      <td>9.0</td>\n",
       "      <td>1974</td>\n",
       "      <td>https://imdb.com/title/tt0071562/</td>\n",
       "      <td>The early life and career of Vito Corleone in ...</td>\n",
       "      <td>[Crime, Drama]</td>\n",
       "      <td>1300000</td>\n",
       "      <td>202</td>\n",
       "      <td>Francis Ford Coppola</td>\n",
       "      <td>Francis Ford Coppola</td>\n",
       "      <td>[Al Pacino, Robert De Niro, Robert Duvall, Dia...</td>\n",
       "    </tr>\n",
       "    <tr>\n",
       "      <th>4</th>\n",
       "      <td>5</td>\n",
       "      <td>12 Angry Men</td>\n",
       "      <td>9.0</td>\n",
       "      <td>1957</td>\n",
       "      <td>https://imdb.com/title/tt0050083/</td>\n",
       "      <td>The jury in a New York City murder trial is fr...</td>\n",
       "      <td>[Crime, Drama]</td>\n",
       "      <td>815000</td>\n",
       "      <td>96</td>\n",
       "      <td>Sidney Lumet</td>\n",
       "      <td>Reginald Rose</td>\n",
       "      <td>[Henry Fonda, Lee J. Cobb, Martin Balsam, John...</td>\n",
       "    </tr>\n",
       "    <tr>\n",
       "      <th>...</th>\n",
       "      <td>...</td>\n",
       "      <td>...</td>\n",
       "      <td>...</td>\n",
       "      <td>...</td>\n",
       "      <td>...</td>\n",
       "      <td>...</td>\n",
       "      <td>...</td>\n",
       "      <td>...</td>\n",
       "      <td>...</td>\n",
       "      <td>...</td>\n",
       "      <td>...</td>\n",
       "      <td>...</td>\n",
       "    </tr>\n",
       "    <tr>\n",
       "      <th>245</th>\n",
       "      <td>246</td>\n",
       "      <td>The Help</td>\n",
       "      <td>8.0</td>\n",
       "      <td>2011</td>\n",
       "      <td>https://imdb.com/title/tt1454029/</td>\n",
       "      <td>An aspiring author during the civil rights mov...</td>\n",
       "      <td>[Drama]</td>\n",
       "      <td>473000</td>\n",
       "      <td>146</td>\n",
       "      <td>Tate Taylor</td>\n",
       "      <td>Tate Taylor</td>\n",
       "      <td>[Viola Davis, Emma Stone, Octavia Spencer, Bry...</td>\n",
       "    </tr>\n",
       "    <tr>\n",
       "      <th>246</th>\n",
       "      <td>247</td>\n",
       "      <td>The Iron Giant</td>\n",
       "      <td>8.0</td>\n",
       "      <td>1999</td>\n",
       "      <td>https://imdb.com/title/tt0129167/</td>\n",
       "      <td>A young boy befriends a giant robot from outer...</td>\n",
       "      <td>[Animation, Action, Adventure]</td>\n",
       "      <td>210000</td>\n",
       "      <td>86</td>\n",
       "      <td>Brad Bird</td>\n",
       "      <td>Tim McCanlies</td>\n",
       "      <td>[Eli Marienthal, Harry Connick Jr., Jennifer A...</td>\n",
       "    </tr>\n",
       "    <tr>\n",
       "      <th>247</th>\n",
       "      <td>248</td>\n",
       "      <td>Life of Brian</td>\n",
       "      <td>8.0</td>\n",
       "      <td>1979</td>\n",
       "      <td>https://imdb.com/title/tt0079470/</td>\n",
       "      <td>Born on the original Christmas in the stable n...</td>\n",
       "      <td>[Comedy]</td>\n",
       "      <td>410000</td>\n",
       "      <td>94</td>\n",
       "      <td>Terry Jones</td>\n",
       "      <td>Graham Chapman</td>\n",
       "      <td>[Graham Chapman, John Cleese, Michael Palin, T...</td>\n",
       "    </tr>\n",
       "    <tr>\n",
       "      <th>248</th>\n",
       "      <td>249</td>\n",
       "      <td>Aladdin</td>\n",
       "      <td>8.0</td>\n",
       "      <td>1992</td>\n",
       "      <td>https://imdb.com/title/tt0103639/</td>\n",
       "      <td>A kind-hearted street urchin and a power-hungr...</td>\n",
       "      <td>[Animation, Adventure, Comedy]</td>\n",
       "      <td>439000</td>\n",
       "      <td>90</td>\n",
       "      <td>Ron Clements</td>\n",
       "      <td>John Musker</td>\n",
       "      <td>[Scott Weinger, Robin Williams, Linda Larkin, ...</td>\n",
       "    </tr>\n",
       "    <tr>\n",
       "      <th>249</th>\n",
       "      <td>250</td>\n",
       "      <td>Dances with Wolves</td>\n",
       "      <td>8.0</td>\n",
       "      <td>1990</td>\n",
       "      <td>https://imdb.com/title/tt0099348/</td>\n",
       "      <td>Lieutenant John Dunbar, assigned to a remote w...</td>\n",
       "      <td>[Adventure, Drama, Western]</td>\n",
       "      <td>277000</td>\n",
       "      <td>181</td>\n",
       "      <td>Kevin Costner</td>\n",
       "      <td>Michael Blake</td>\n",
       "      <td>[Kevin Costner, Mary McDonnell, Graham Greene,...</td>\n",
       "    </tr>\n",
       "  </tbody>\n",
       "</table>\n",
       "<p>250 rows × 12 columns</p>\n",
       "</div>"
      ],
      "text/plain": [
       "     rank                     title  rating  year  \\\n",
       "0       1  The Shawshank Redemption     9.2  1994   \n",
       "1       2             The Godfather     9.2  1972   \n",
       "2       3           The Dark Knight     9.0  2008   \n",
       "3       4     The Godfather Part II     9.0  1974   \n",
       "4       5              12 Angry Men     9.0  1957   \n",
       "..    ...                       ...     ...   ...   \n",
       "245   246                  The Help     8.0  2011   \n",
       "246   247            The Iron Giant     8.0  1999   \n",
       "247   248             Life of Brian     8.0  1979   \n",
       "248   249                   Aladdin     8.0  1992   \n",
       "249   250        Dances with Wolves     8.0  1990   \n",
       "\n",
       "                                   url  \\\n",
       "0    https://imdb.com/title/tt0111161/   \n",
       "1    https://imdb.com/title/tt0068646/   \n",
       "2    https://imdb.com/title/tt0468569/   \n",
       "3    https://imdb.com/title/tt0071562/   \n",
       "4    https://imdb.com/title/tt0050083/   \n",
       "..                                 ...   \n",
       "245  https://imdb.com/title/tt1454029/   \n",
       "246  https://imdb.com/title/tt0129167/   \n",
       "247  https://imdb.com/title/tt0079470/   \n",
       "248  https://imdb.com/title/tt0103639/   \n",
       "249  https://imdb.com/title/tt0099348/   \n",
       "\n",
       "                                           description  \\\n",
       "0    Over the course of several years, two convicts...   \n",
       "1    Don Vito Corleone, head of a mafia family, dec...   \n",
       "2    When the menace known as the Joker wreaks havo...   \n",
       "3    The early life and career of Vito Corleone in ...   \n",
       "4    The jury in a New York City murder trial is fr...   \n",
       "..                                                 ...   \n",
       "245  An aspiring author during the civil rights mov...   \n",
       "246  A young boy befriends a giant robot from outer...   \n",
       "247  Born on the original Christmas in the stable n...   \n",
       "248  A kind-hearted street urchin and a power-hungr...   \n",
       "249  Lieutenant John Dunbar, assigned to a remote w...   \n",
       "\n",
       "                              genre    votes  duration              director  \\\n",
       "0                           [Drama]  2800000       142        Frank Darabont   \n",
       "1                    [Crime, Drama]  1900000       175  Francis Ford Coppola   \n",
       "2            [Action, Crime, Drama]  2700000       152     Christopher Nolan   \n",
       "3                    [Crime, Drama]  1300000       202  Francis Ford Coppola   \n",
       "4                    [Crime, Drama]   815000        96          Sidney Lumet   \n",
       "..                              ...      ...       ...                   ...   \n",
       "245                         [Drama]   473000       146           Tate Taylor   \n",
       "246  [Animation, Action, Adventure]   210000        86             Brad Bird   \n",
       "247                        [Comedy]   410000        94           Terry Jones   \n",
       "248  [Animation, Adventure, Comedy]   439000        90          Ron Clements   \n",
       "249     [Adventure, Drama, Western]   277000       181         Kevin Costner   \n",
       "\n",
       "                   writer                                             actors  \n",
       "0            Stephen King  [Tim Robbins, Morgan Freeman, Bob Gunton, Will...  \n",
       "1              Mario Puzo  [Marlon Brando, Al Pacino, James Caan, Diane K...  \n",
       "2          Jonathan Nolan  [Christian Bale, Heath Ledger, Aaron Eckhart, ...  \n",
       "3    Francis Ford Coppola  [Al Pacino, Robert De Niro, Robert Duvall, Dia...  \n",
       "4           Reginald Rose  [Henry Fonda, Lee J. Cobb, Martin Balsam, John...  \n",
       "..                    ...                                                ...  \n",
       "245           Tate Taylor  [Viola Davis, Emma Stone, Octavia Spencer, Bry...  \n",
       "246         Tim McCanlies  [Eli Marienthal, Harry Connick Jr., Jennifer A...  \n",
       "247        Graham Chapman  [Graham Chapman, John Cleese, Michael Palin, T...  \n",
       "248           John Musker  [Scott Weinger, Robin Williams, Linda Larkin, ...  \n",
       "249         Michael Blake  [Kevin Costner, Mary McDonnell, Graham Greene,...  \n",
       "\n",
       "[250 rows x 12 columns]"
      ]
     },
     "execution_count": 502,
     "metadata": {},
     "output_type": "execute_result"
    }
   ],
   "source": [
    "# Transform to Panda DataFrame and display\n",
    "complete_movie_df = pd.DataFrame(complete_movie_dict)\n",
    "pd.DataFrame(complete_movie_dict)"
   ]
  },
  {
   "cell_type": "code",
   "execution_count": 503,
   "id": "5ed05ea5",
   "metadata": {},
   "outputs": [],
   "source": [
    "# Saving the final DataFrame as a .csv file\n",
    "complete_movie_df.to_csv('complete_movies.csv', index=None)"
   ]
  },
  {
   "cell_type": "markdown",
   "id": "aeb8d322",
   "metadata": {},
   "source": [
    "# Visualisation of data"
   ]
  },
  {
   "cell_type": "code",
   "execution_count": 650,
   "id": "0d369e76",
   "metadata": {},
   "outputs": [],
   "source": [
    "import matplotlib.pyplot as plt\n",
    "import seaborn as sn\n",
    "import math"
   ]
  },
  {
   "cell_type": "code",
   "execution_count": 523,
   "id": "59324f7b",
   "metadata": {},
   "outputs": [],
   "source": [
    "# Transform the year to its coresponding decade\n",
    "def decade_from_year(year):\n",
    "    return math.ceil(year/10)"
   ]
  },
  {
   "cell_type": "code",
   "execution_count": 720,
   "id": "16da34dc",
   "metadata": {},
   "outputs": [
    {
     "name": "stdout",
     "output_type": "stream",
     "text": [
      "[193, 193, 193, 193, 193, 193, 194, 194, 194, 194, 194, 194, 194, 194, 194, 194, 195, 195, 195, 195, 195, 195, 195, 195, 195, 195, 195, 195, 196, 196, 196, 196, 196, 196, 196, 196, 196, 196, 196, 196, 196, 196, 196, 196, 196, 196, 196, 196, 196, 196, 197, 197, 197, 197, 197, 197, 197, 197, 197, 197, 197, 197, 197, 197, 197, 197, 198, 198, 198, 198, 198, 198, 198, 198, 198, 198, 198, 198, 198, 198, 198, 198, 198, 198, 198, 198, 198, 198, 199, 199, 199, 199, 199, 199, 199, 199, 199, 199, 199, 199, 199, 199, 199, 199, 199, 199, 199, 199, 199, 199, 199, 199, 200, 200, 200, 200, 200, 200, 200, 200, 200, 200, 200, 200, 200, 200, 200, 200, 200, 200, 200, 200, 200, 200, 200, 200, 200, 200, 200, 200, 200, 200, 200, 200, 200, 200, 200, 200, 200, 200, 200, 200, 200, 200, 200, 200, 200, 201, 201, 201, 201, 201, 201, 201, 201, 201, 201, 201, 201, 201, 201, 201, 201, 201, 201, 201, 201, 201, 201, 201, 201, 201, 201, 201, 201, 201, 201, 201, 201, 201, 201, 201, 201, 201, 201, 201, 201, 201, 201, 201, 201, 201, 201, 201, 201, 202, 202, 202, 202, 202, 202, 202, 202, 202, 202, 202, 202, 202, 202, 202, 202, 202, 202, 202, 202, 202, 202, 202, 202, 202, 202, 202, 202, 202, 202, 202, 202, 202, 202, 202, 202, 202, 202, 202, 202, 203, 203, 203, 203, 203]\n"
     ]
    }
   ],
   "source": [
    "# Retrieve the list of decades in which the movies in IMDB Top 250 were released\n",
    "def get_list_of_decades(df):\n",
    "    list_of_decades = []\n",
    "    for y in df:\n",
    "        dec = decade_from_year(y)\n",
    "        list_of_decades.append(dec)\n",
    "    list_of_decades.sort()\n",
    "    return list_of_decades\n",
    "list_of_decades = get_list_of_decades(complete_movie_df['year'])\n",
    "print(list_of_decades)"
   ]
  },
  {
   "cell_type": "code",
   "execution_count": 652,
   "id": "4d16bcc5",
   "metadata": {},
   "outputs": [],
   "source": [
    "# Retrieve only the unique elements of a list\n",
    "def get_list_of_unique_elements(list_of_all):\n",
    "    list_of_unique = []\n",
    "    for i in list_of_all:\n",
    "        if i not in list_of_unique:\n",
    "            list_of_unique.append(i)\n",
    "    return list_of_unique"
   ]
  },
  {
   "cell_type": "code",
   "execution_count": 750,
   "id": "88fa13a5",
   "metadata": {},
   "outputs": [
    {
     "name": "stdout",
     "output_type": "stream",
     "text": [
      "[193, 194, 195, 196, 197, 198, 199, 200, 201, 202, 203]\n"
     ]
    }
   ],
   "source": [
    "list_of_unique_decades = get_list_of_unique_elements(list_of_decades)\n",
    "print(list_of_unique_decades)"
   ]
  },
  {
   "cell_type": "code",
   "execution_count": 579,
   "id": "a1e82bd7",
   "metadata": {},
   "outputs": [
    {
     "name": "stdout",
     "output_type": "stream",
     "text": [
      "[6, 10, 12, 22, 16, 22, 24, 45, 48, 40, 5]\n"
     ]
    }
   ],
   "source": [
    "# Retrieve how many times each element appears in a list\n",
    "def get_number_of_appearances(list_of_all, list_of_unique):\n",
    "    number_of_appearances = []\n",
    "    for i in list_of_unique:\n",
    "        count = 0\n",
    "        for j in list_of_all:\n",
    "            if i == j:\n",
    "                count = count + 1\n",
    "        number_of_appearances.append(count)\n",
    "    return number_of_appearances\n",
    "number_of_movies_per_decade = get_number_of_appearances(list_of_decades, list_of_unique_decades)\n",
    "print(number_of_movies_per_decade)"
   ]
  },
  {
   "cell_type": "code",
   "execution_count": 748,
   "id": "40c2bac3",
   "metadata": {},
   "outputs": [],
   "source": [
    "# Instead of '195', display the decade like '1940s'\n",
    "def improve_decade_displaying(list_of_unique_decades):\n",
    "    list_of_unique_decades_improved = list_of_unique_decades\n",
    "    for i in range(len(list_of_unique_decades)):\n",
    "        list_of_unique_decades_improved[i] = str(int(list_of_unique_decades[i])-1) + '0s'\n",
    "    return list_of_unique_decades_improved"
   ]
  },
  {
   "cell_type": "code",
   "execution_count": 751,
   "id": "5401a157",
   "metadata": {},
   "outputs": [
    {
     "name": "stdout",
     "output_type": "stream",
     "text": [
      "['1920s', '1930s', '1940s', '1950s', '1960s', '1970s', '1980s', '1990s', '2000s', '2010s', '2020s']\n"
     ]
    }
   ],
   "source": [
    "list_of_unique_decades_improved = improve_decade_displaying(list_of_unique_decades)\n",
    "print(list_of_unique_decades_improved)"
   ]
  },
  {
   "cell_type": "code",
   "execution_count": 752,
   "id": "ba987db8",
   "metadata": {},
   "outputs": [
    {
     "data": {
      "image/png": "[encoded data removed]",
      "text/plain": [
       "<Figure size 432x288 with 1 Axes>"
      ]
     },
     "metadata": {
      "needs_background": "light"
     },
     "output_type": "display_data"
    }
   ],
   "source": [
    "fig = plt.figure()\n",
    "ax = fig.add_axes([0,0,2,1])\n",
    "ax.bar(list_of_unique_decades_improved,number_of_movies_per_decade)\n",
    "plt.show()\n",
    "\n",
    "#fig, ax = plt.subplots()\n",
    "#ax.pie(number_of_movies_per_decade, labels=list_of_unique_decades)"
   ]
  },
  {
   "cell_type": "code",
   "execution_count": 654,
   "id": "ad45448b",
   "metadata": {
    "scrolled": true
   },
   "outputs": [],
   "source": [
    "def get_list_of_unique_genres(genres):\n",
    "    list_genres = []\n",
    "    for i in genres:\n",
    "        for j in i:\n",
    "            list_genres.append(j)\n",
    "    list_of_unique_genres = get_list_of_unique_elements(list_genres)\n",
    "    return list_of_unique_genres"
   ]
  },
  {
   "cell_type": "code",
   "execution_count": 604,
   "id": "e2a22b72",
   "metadata": {},
   "outputs": [
    {
     "name": "stdout",
     "output_type": "stream",
     "text": [
      "[176, 51, 52, 27, 9, 61, 7, 24, 23, 20, 14, 32, 13, 31, 23, 46, 4, 5, 4, 1, 5]\n"
     ]
    }
   ],
   "source": [
    "number_of_genre_appearances = get_number_of_appearances(list_genres, list_of_unique_genres)\n",
    "print(list_of_genre_appearances)"
   ]
  },
  {
   "cell_type": "code",
   "execution_count": 663,
   "id": "d9773756",
   "metadata": {},
   "outputs": [],
   "source": [
    "# This function sorts the genres by popularity\n",
    "def sort_genres_by_appearances(list_of_unique_genres, number_of_genre_appearances):\n",
    "    list_of_genres_and_appearances = []\n",
    "    for i in range(len(list_of_unique_genres)):\n",
    "        temp_list = []\n",
    "        temp_list.append(number_of_genre_appearances[i])\n",
    "        temp_list.append(list_of_unique_genres[i])\n",
    "        list_of_genres_and_appearances.append(temp_list)\n",
    "    list_of_genres_and_appearances.sort(reverse=True)\n",
    "    list_genres_sorted = []\n",
    "    list_genres_appearances_sorted = []\n",
    "    for i in range(len(list_of_genres_and_appearances)):\n",
    "        list_genres_sorted.append(list_of_genres_and_appearances[i][1])\n",
    "    for i in range(len(list_of_genres_and_appearances)):\n",
    "        list_genres_appearances_sorted.append(list_of_genres_and_appearances[i][0])\n",
    "    return list_genres_sorted, list_genres_appearances_sorted"
   ]
  },
  {
   "cell_type": "code",
   "execution_count": 664,
   "id": "cd801c86",
   "metadata": {},
   "outputs": [],
   "source": [
    "list_genres_sorted, list_genres_appearances_sorted = sort_genres_by_appearances(list_of_unique_genres, number_of_genre_appearances)"
   ]
  },
  {
   "cell_type": "markdown",
   "id": "e4af9d63",
   "metadata": {},
   "source": [
    "Here we can see that the genre 'Drama' is by far the most popular, followed by 'Adventure', 'Action', 'Crime', 'Comedy' and so on."
   ]
  },
  {
   "cell_type": "code",
   "execution_count": 665,
   "id": "8473ea59",
   "metadata": {},
   "outputs": [
    {
     "data": {
      "image/png": "[encoded data removed]",
      "text/plain": [
       "<Figure size 432x288 with 1 Axes>"
      ]
     },
     "metadata": {
      "needs_background": "light"
     },
     "output_type": "display_data"
    }
   ],
   "source": [
    "fig = plt.figure()\n",
    "ax = fig.add_axes([0,0,3,1])\n",
    "ax.bar(list_genres_sorted,list_genres_appearances_sorted)\n",
    "plt.show()"
   ]
  },
  {
   "cell_type": "code",
   "execution_count": 658,
   "id": "f12f49b7",
   "metadata": {},
   "outputs": [],
   "source": [
    "def get_durations(duration):\n",
    "    list_of_movie_durations = []\n",
    "    for i in duration:\n",
    "        list_of_movie_durations.append(i)\n",
    "    return list_of_movie_durations"
   ]
  },
  {
   "cell_type": "code",
   "execution_count": 659,
   "id": "7b28ef3c",
   "metadata": {},
   "outputs": [],
   "source": [
    "list_of_movie_durations = get_durations(complete_movie_df['duration'])"
   ]
  },
  {
   "cell_type": "markdown",
   "id": "e014d80c",
   "metadata": {},
   "source": [
    "Using this density plot and box plot, we can see what is the prefered length for a movie, with the big majority being between 1h40m and 2h25m."
   ]
  },
  {
   "cell_type": "code",
   "execution_count": 677,
   "id": "b56a54ba",
   "metadata": {},
   "outputs": [
    {
     "data": {
      "image/png": "[encoded data removed]",
      "text/plain": [
       "<Figure size 432x288 with 1 Axes>"
      ]
     },
     "metadata": {
      "needs_background": "light"
     },
     "output_type": "display_data"
    },
    {
     "data": {
      "image/png": "[encoded data removed]",
      "text/plain": [
       "<Figure size 1008x288 with 1 Axes>"
      ]
     },
     "metadata": {
      "needs_background": "light"
     },
     "output_type": "display_data"
    }
   ],
   "source": [
    "# Density plot\n",
    "res = sn.kdeplot(list_of_movie_durations,color='green',shade=True)\n",
    "plt.show()\n",
    "\n",
    "# Box plot\n",
    "plt.figure(figsize=(14, 4))\n",
    "sn.boxplot(x=complete_movie_df['duration'])\n",
    "plt.show()"
   ]
  },
  {
   "cell_type": "code",
   "execution_count": 678,
   "id": "06fde0f3",
   "metadata": {},
   "outputs": [],
   "source": [
    "# Get a list of the most influential actors by checking who has appeared in 5 movies or more on this list\n",
    "def get_significant_actors(actors):\n",
    "    all_actors = []\n",
    "    significant_actors = []\n",
    "    for i in actors:\n",
    "        for j in i:\n",
    "            all_actors.append(j)\n",
    "    for actor in all_actors:\n",
    "        if all_actors.count(actor) > 4 and actor not in significant_actors:\n",
    "            significant_actors.append(actor)\n",
    "    return significant_actors"
   ]
  },
  {
   "cell_type": "code",
   "execution_count": 679,
   "id": "33d31a6b",
   "metadata": {},
   "outputs": [
    {
     "name": "stdout",
     "output_type": "stream",
     "text": [
      "['Morgan Freeman', 'Christian Bale', 'Robert De Niro', 'Clint Eastwood', 'Tom Hanks', 'Brad Pitt', 'Leonardo DiCaprio', 'Harrison Ford', 'Takashi Shimura', 'Charles Chaplin', 'John Ratzenberger', 'Mark Ruffalo']\n"
     ]
    }
   ],
   "source": [
    "significant_actors = get_significant_actors(complete_movie_df['actors'])\n",
    "print(significant_actors)"
   ]
  },
  {
   "cell_type": "markdown",
   "id": "4b30eab5",
   "metadata": {},
   "source": [
    "# Sorting\n",
    "\n",
    "A quick functions which sorts the list of movies based on any column available in the table. Here we can easily sort movies based on the release date, duration or number of votes."
   ]
  },
  {
   "cell_type": "code",
   "execution_count": 510,
   "id": "65693ee7",
   "metadata": {},
   "outputs": [],
   "source": [
    "def sort_by():\n",
    "    print(\"Sort by one of the following criteria: title, rating, year, votes, duration\")\n",
    "    criteria = input(\"Sort by:\")\n",
    "    sorted_df = complete_movie_df.sort_values(by=[criteria])\n",
    "    return sorted_df"
   ]
  },
  {
   "cell_type": "code",
   "execution_count": 708,
   "id": "88c1e0ed",
   "metadata": {},
   "outputs": [
    {
     "name": "stdout",
     "output_type": "stream",
     "text": [
      "Sort by one of the following criteria: title, rating, year, votes, duration\n",
      "Sort by:year\n"
     ]
    },
    {
     "data": {
      "text/html": [
       "<div>\n",
       "<style scoped>\n",
       "    .dataframe tbody tr th:only-of-type {\n",
       "        vertical-align: middle;\n",
       "    }\n",
       "\n",
       "    .dataframe tbody tr th {\n",
       "        vertical-align: top;\n",
       "    }\n",
       "\n",
       "    .dataframe thead th {\n",
       "        text-align: right;\n",
       "    }\n",
       "</style>\n",
       "<table border=\"1\" class=\"dataframe\">\n",
       "  <thead>\n",
       "    <tr style=\"text-align: right;\">\n",
       "      <th></th>\n",
       "      <th>rank</th>\n",
       "      <th>title</th>\n",
       "      <th>rating</th>\n",
       "      <th>year</th>\n",
       "      <th>url</th>\n",
       "      <th>description</th>\n",
       "      <th>genre</th>\n",
       "      <th>votes</th>\n",
       "      <th>duration</th>\n",
       "      <th>director</th>\n",
       "      <th>writer</th>\n",
       "      <th>actors</th>\n",
       "    </tr>\n",
       "  </thead>\n",
       "  <tbody>\n",
       "    <tr>\n",
       "      <th>128</th>\n",
       "      <td>129</td>\n",
       "      <td>The Kid</td>\n",
       "      <td>8.2</td>\n",
       "      <td>1921</td>\n",
       "      <td>https://imdb.com/title/tt0012349/</td>\n",
       "      <td>The Tramp cares for an abandoned child, but ev...</td>\n",
       "      <td>[Comedy, Drama, Family]</td>\n",
       "      <td>130000</td>\n",
       "      <td>68</td>\n",
       "      <td>Charles Chaplin</td>\n",
       "      <td>Charles Chaplin</td>\n",
       "      <td>[Charles Chaplin, Edna Purviance, Jackie Cooga...</td>\n",
       "    </tr>\n",
       "    <tr>\n",
       "      <th>196</th>\n",
       "      <td>197</td>\n",
       "      <td>Sherlock Jr.</td>\n",
       "      <td>8.1</td>\n",
       "      <td>1924</td>\n",
       "      <td>https://imdb.com/title/tt0015324/</td>\n",
       "      <td>A film projectionist longs to be a detective, ...</td>\n",
       "      <td>[Action, Comedy, Romance]</td>\n",
       "      <td>53000</td>\n",
       "      <td>45</td>\n",
       "      <td>Buster Keaton</td>\n",
       "      <td>Jean C. Havez</td>\n",
       "      <td>[Buster Keaton, Kathryn McGuire, Joe Keaton, E...</td>\n",
       "    </tr>\n",
       "    <tr>\n",
       "      <th>177</th>\n",
       "      <td>178</td>\n",
       "      <td>The Gold Rush</td>\n",
       "      <td>8.1</td>\n",
       "      <td>1925</td>\n",
       "      <td>https://imdb.com/title/tt0015864/</td>\n",
       "      <td>A prospector goes to the Klondike during the 1...</td>\n",
       "      <td>[Adventure, Comedy, Drama]</td>\n",
       "      <td>114000</td>\n",
       "      <td>95</td>\n",
       "      <td>Charles Chaplin</td>\n",
       "      <td>Charles Chaplin</td>\n",
       "      <td>[Charles Chaplin, Mack Swain, Tom Murray, Henr...</td>\n",
       "    </tr>\n",
       "    <tr>\n",
       "      <th>188</th>\n",
       "      <td>189</td>\n",
       "      <td>The General</td>\n",
       "      <td>8.1</td>\n",
       "      <td>1926</td>\n",
       "      <td>https://imdb.com/title/tt0017925/</td>\n",
       "      <td>After being rejected by the Confederate milita...</td>\n",
       "      <td>[Action, Adventure, Comedy]</td>\n",
       "      <td>94000</td>\n",
       "      <td>67</td>\n",
       "      <td>Clyde Bruckman</td>\n",
       "      <td>Buster Keaton</td>\n",
       "      <td>[Buster Keaton, Marion Mack, Glen Cavender, Ji...</td>\n",
       "    </tr>\n",
       "    <tr>\n",
       "      <th>114</th>\n",
       "      <td>115</td>\n",
       "      <td>Metropolis</td>\n",
       "      <td>8.2</td>\n",
       "      <td>1927</td>\n",
       "      <td>https://imdb.com/title/tt0017136/</td>\n",
       "      <td>In a futuristic city sharply divided between t...</td>\n",
       "      <td>[Drama, Sci-Fi]</td>\n",
       "      <td>179000</td>\n",
       "      <td>153</td>\n",
       "      <td>Fritz Lang</td>\n",
       "      <td>Thea von Harbou</td>\n",
       "      <td>[Brigitte Helm, Alfred Abel, Gustav Fröhlich, ...</td>\n",
       "    </tr>\n",
       "    <tr>\n",
       "      <th>...</th>\n",
       "      <td>...</td>\n",
       "      <td>...</td>\n",
       "      <td>...</td>\n",
       "      <td>...</td>\n",
       "      <td>...</td>\n",
       "      <td>...</td>\n",
       "      <td>...</td>\n",
       "      <td>...</td>\n",
       "      <td>...</td>\n",
       "      <td>...</td>\n",
       "      <td>...</td>\n",
       "      <td>...</td>\n",
       "    </tr>\n",
       "    <tr>\n",
       "      <th>218</th>\n",
       "      <td>219</td>\n",
       "      <td>Jai Bhim</td>\n",
       "      <td>8.0</td>\n",
       "      <td>2021</td>\n",
       "      <td>https://imdb.com/title/tt15097216/</td>\n",
       "      <td>When a tribal man is arrested for a case of al...</td>\n",
       "      <td>[Crime, Drama, Mystery]</td>\n",
       "      <td>207000</td>\n",
       "      <td>164</td>\n",
       "      <td>T.J. Gnanavel</td>\n",
       "      <td>T.J. Gnanavel</td>\n",
       "      <td>[Suriya, Lijo Mol Jose, Manikandan K., Rajisha...</td>\n",
       "    </tr>\n",
       "    <tr>\n",
       "      <th>154</th>\n",
       "      <td>155</td>\n",
       "      <td>Spider-Man: No Way Home</td>\n",
       "      <td>8.1</td>\n",
       "      <td>2021</td>\n",
       "      <td>https://imdb.com/title/tt10872600/</td>\n",
       "      <td>With Spider-Man's identity now revealed, Peter...</td>\n",
       "      <td>[Action, Adventure, Fantasy]</td>\n",
       "      <td>803000</td>\n",
       "      <td>148</td>\n",
       "      <td>Jon Watts</td>\n",
       "      <td>Chris McKenna</td>\n",
       "      <td>[Tom Holland, Zendaya, Benedict Cumberbatch, J...</td>\n",
       "    </tr>\n",
       "    <tr>\n",
       "      <th>125</th>\n",
       "      <td>126</td>\n",
       "      <td>Top Gun: Maverick</td>\n",
       "      <td>8.2</td>\n",
       "      <td>2022</td>\n",
       "      <td>https://imdb.com/title/tt1745960/</td>\n",
       "      <td>After thirty years, Maverick is still pushing ...</td>\n",
       "      <td>[Action, Drama]</td>\n",
       "      <td>596000</td>\n",
       "      <td>130</td>\n",
       "      <td>Joseph Kosinski</td>\n",
       "      <td>Jim Cash</td>\n",
       "      <td>[Tom Cruise, Jennifer Connelly, Miles Teller, ...</td>\n",
       "    </tr>\n",
       "    <tr>\n",
       "      <th>10</th>\n",
       "      <td>11</td>\n",
       "      <td>Spider-Man: Across the Spider-Verse</td>\n",
       "      <td>8.8</td>\n",
       "      <td>2023</td>\n",
       "      <td>https://imdb.com/title/tt9362722/</td>\n",
       "      <td>Miles Morales catapults across the Multiverse,...</td>\n",
       "      <td>[Animation, Action, Adventure]</td>\n",
       "      <td>123000</td>\n",
       "      <td>140</td>\n",
       "      <td>Joaquim Dos Santos</td>\n",
       "      <td>Kemp Powers</td>\n",
       "      <td>[Shameik Moore, Hailee Steinfeld, Brian Tyree ...</td>\n",
       "    </tr>\n",
       "    <tr>\n",
       "      <th>166</th>\n",
       "      <td>167</td>\n",
       "      <td>Guardians of the Galaxy Vol. 3</td>\n",
       "      <td>8.1</td>\n",
       "      <td>2023</td>\n",
       "      <td>https://imdb.com/title/tt6791350/</td>\n",
       "      <td>Still reeling from the loss of Gamora, Peter Q...</td>\n",
       "      <td>[Action, Adventure, Comedy]</td>\n",
       "      <td>170000</td>\n",
       "      <td>150</td>\n",
       "      <td>James Gunn</td>\n",
       "      <td>James Gunn</td>\n",
       "      <td>[Chris Pratt, Chukwudi Iwuji, Bradley Cooper, ...</td>\n",
       "    </tr>\n",
       "  </tbody>\n",
       "</table>\n",
       "<p>250 rows × 12 columns</p>\n",
       "</div>"
      ],
      "text/plain": [
       "     rank                                title  rating  year  \\\n",
       "128   129                              The Kid     8.2  1921   \n",
       "196   197                         Sherlock Jr.     8.1  1924   \n",
       "177   178                        The Gold Rush     8.1  1925   \n",
       "188   189                          The General     8.1  1926   \n",
       "114   115                           Metropolis     8.2  1927   \n",
       "..    ...                                  ...     ...   ...   \n",
       "218   219                             Jai Bhim     8.0  2021   \n",
       "154   155              Spider-Man: No Way Home     8.1  2021   \n",
       "125   126                    Top Gun: Maverick     8.2  2022   \n",
       "10     11  Spider-Man: Across the Spider-Verse     8.8  2023   \n",
       "166   167       Guardians of the Galaxy Vol. 3     8.1  2023   \n",
       "\n",
       "                                    url  \\\n",
       "128   https://imdb.com/title/tt0012349/   \n",
       "196   https://imdb.com/title/tt0015324/   \n",
       "177   https://imdb.com/title/tt0015864/   \n",
       "188   https://imdb.com/title/tt0017925/   \n",
       "114   https://imdb.com/title/tt0017136/   \n",
       "..                                  ...   \n",
       "218  https://imdb.com/title/tt15097216/   \n",
       "154  https://imdb.com/title/tt10872600/   \n",
       "125   https://imdb.com/title/tt1745960/   \n",
       "10    https://imdb.com/title/tt9362722/   \n",
       "166   https://imdb.com/title/tt6791350/   \n",
       "\n",
       "                                           description  \\\n",
       "128  The Tramp cares for an abandoned child, but ev...   \n",
       "196  A film projectionist longs to be a detective, ...   \n",
       "177  A prospector goes to the Klondike during the 1...   \n",
       "188  After being rejected by the Confederate milita...   \n",
       "114  In a futuristic city sharply divided between t...   \n",
       "..                                                 ...   \n",
       "218  When a tribal man is arrested for a case of al...   \n",
       "154  With Spider-Man's identity now revealed, Peter...   \n",
       "125  After thirty years, Maverick is still pushing ...   \n",
       "10   Miles Morales catapults across the Multiverse,...   \n",
       "166  Still reeling from the loss of Gamora, Peter Q...   \n",
       "\n",
       "                              genre   votes  duration            director  \\\n",
       "128         [Comedy, Drama, Family]  130000        68     Charles Chaplin   \n",
       "196       [Action, Comedy, Romance]   53000        45       Buster Keaton   \n",
       "177      [Adventure, Comedy, Drama]  114000        95     Charles Chaplin   \n",
       "188     [Action, Adventure, Comedy]   94000        67      Clyde Bruckman   \n",
       "114                 [Drama, Sci-Fi]  179000       153          Fritz Lang   \n",
       "..                              ...     ...       ...                 ...   \n",
       "218         [Crime, Drama, Mystery]  207000       164       T.J. Gnanavel   \n",
       "154    [Action, Adventure, Fantasy]  803000       148           Jon Watts   \n",
       "125                 [Action, Drama]  596000       130     Joseph Kosinski   \n",
       "10   [Animation, Action, Adventure]  123000       140  Joaquim Dos Santos   \n",
       "166     [Action, Adventure, Comedy]  170000       150          James Gunn   \n",
       "\n",
       "              writer                                             actors  \n",
       "128  Charles Chaplin  [Charles Chaplin, Edna Purviance, Jackie Cooga...  \n",
       "196    Jean C. Havez  [Buster Keaton, Kathryn McGuire, Joe Keaton, E...  \n",
       "177  Charles Chaplin  [Charles Chaplin, Mack Swain, Tom Murray, Henr...  \n",
       "188    Buster Keaton  [Buster Keaton, Marion Mack, Glen Cavender, Ji...  \n",
       "114  Thea von Harbou  [Brigitte Helm, Alfred Abel, Gustav Fröhlich, ...  \n",
       "..               ...                                                ...  \n",
       "218    T.J. Gnanavel  [Suriya, Lijo Mol Jose, Manikandan K., Rajisha...  \n",
       "154    Chris McKenna  [Tom Holland, Zendaya, Benedict Cumberbatch, J...  \n",
       "125         Jim Cash  [Tom Cruise, Jennifer Connelly, Miles Teller, ...  \n",
       "10       Kemp Powers  [Shameik Moore, Hailee Steinfeld, Brian Tyree ...  \n",
       "166       James Gunn  [Chris Pratt, Chukwudi Iwuji, Bradley Cooper, ...  \n",
       "\n",
       "[250 rows x 12 columns]"
      ]
     },
     "execution_count": 708,
     "metadata": {},
     "output_type": "execute_result"
    }
   ],
   "source": [
    "sort_by()"
   ]
  },
  {
   "cell_type": "markdown",
   "id": "44314e5e",
   "metadata": {},
   "source": [
    "# Conclusions and Future Work\n",
    "\n",
    "## Summary\n",
    "In this project we have scraped the information of the Top 250 most popular movies in history and analysed it.\n",
    "\n",
    "For this, we have used BeautifulSoup for Web Scraping, matplotlib and Seaborn for data visualisation and Pandas to create DataFrames which are easy to read and sort.\n",
    "\n",
    "As a result, we have drawn conclusions such as:\n",
    "- What are the most popular genres\n",
    "- What is the prefered duration of a movie \n",
    "- Which decades had produced the largest number of influential movies\n",
    "- What are the actors that played the most numerous roles in top movies\n",
    "\n",
    "We have also created a quick way to sort these movies based on any parameter that we scraped, useful if you want to find the shortest movie, most popular (by the number of votes), newest or oldest, or which one includes my favourite actors.\n",
    "\n",
    "# Future Works\n",
    "This project can be extended further by creating a sorting algorithm which takes into consideration more parameters at the same time. For example, I want to watch the newest shortest movies (this needs to sort based on 'year' as well as 'duration')."
   ]
  },
  {
   "cell_type": "code",
   "execution_count": null,
   "id": "aaf24e44",
   "metadata": {},
   "outputs": [],
   "source": []
  },
  {
   "cell_type": "code",
   "execution_count": null,
   "id": "966460ce",
   "metadata": {},
   "outputs": [],
   "source": []
  }
 ],
 "metadata": {
  "kernelspec": {
   "display_name": "Python 3 (ipykernel)",
   "language": "python",
   "name": "python3"
  },
  "language_info": {
   "codemirror_mode": {
    "name": "ipython",
    "version": 3
   },
   "file_extension": ".py",
   "mimetype": "text/x-python",
   "name": "python",
   "nbconvert_exporter": "python",
   "pygments_lexer": "ipython3",
   "version": "3.9.7"
  }
 },
 "nbformat": 4,
 "nbformat_minor": 5
}
